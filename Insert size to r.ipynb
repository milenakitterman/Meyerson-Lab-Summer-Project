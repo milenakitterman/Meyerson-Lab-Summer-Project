{
 "cells": [
  {
   "cell_type": "code",
   "execution_count": 1,
   "metadata": {
    "scrolled": true
   },
   "outputs": [],
   "source": [
    "file = open(\"TLEN.txt\", \"x\")\n",
    "with open(\"SRR8670692.sample.sam\") as f:\n",
    "        for line in f:\n",
    "            if not line.startswith('@'):\n",
    "                a = line.split()\n",
    "                file.write(\"%i\\n\" % abs(int(a[8])))"
   ]
  }
 ],
 "metadata": {
  "kernelspec": {
   "display_name": "Python 3",
   "language": "python",
   "name": "python3"
  },
  "language_info": {
   "codemirror_mode": {
    "name": "ipython",
    "version": 3
   },
   "file_extension": ".py",
   "mimetype": "text/x-python",
   "name": "python",
   "nbconvert_exporter": "python",
   "pygments_lexer": "ipython3",
   "version": "3.7.7"
  }
 },
 "nbformat": 4,
 "nbformat_minor": 4
}
