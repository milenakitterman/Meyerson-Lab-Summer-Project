{
 "cells": [
  {
   "cell_type": "code",
   "execution_count": 5,
   "metadata": {},
   "outputs": [],
   "source": [
    "import pandas as pd"
   ]
  },
  {
   "cell_type": "code",
   "execution_count": 26,
   "metadata": {
    "scrolled": true
   },
   "outputs": [],
   "source": [
    "lib = []\n",
    "ID= []\n",
    "TLEN= []\n",
    "with open(\"SRR8670692.sample.sam\") as f:\n",
    "        for line in f:\n",
    "            if not line.startswith('@'):\n",
    "                a = line.split()\n",
    "                flag= int(a[1])\n",
    "                if flag&2==2 and flag&256==0:\n",
    "                    TLEN.append(abs(int(a[8])))\n",
    "                    if \"D2210.7\" in a[11]:\n",
    "                        ID.append(\"D2210.7\")\n",
    "                        lib.append(\"Solexa-149982\")\n",
    "                    if \"D2210.8\" in a[11]:\n",
    "                        ID.append(\"D2210.8\")\n",
    "                        lib.append(\"Solexa-149982\")\n",
    "                    if \"D23EP.3\" in a[11]:\n",
    "                        ID.append(\"D23EP.3\")\n",
    "                        lib.append(\"Solexa-149982\")\n",
    "                    if \"D23EP.4\" in a[11]:\n",
    "                        ID.append(\"D23EP.4\")\n",
    "                        lib.append(\"Solexa-149982\")\n",
    "                    if \"D23EW.5\" in a[11]:\n",
    "                        ID.append(\"D23EW.5\") \n",
    "                        lib.append(\"Solexa-150354\")\n",
    "data = {'ID': ID,\n",
    "        'Library': lib,\n",
    "        \"TLEN\": TLEN\n",
    "        }\n",
    "df = pd.DataFrame (data, columns = ['ID','Library','TLEN'])\n",
    "df.to_csv('table.txt')"
   ]
  }
 ],
 "metadata": {
  "kernelspec": {
   "display_name": "Python 3",
   "language": "python",
   "name": "python3"
  },
  "language_info": {
   "codemirror_mode": {
    "name": "ipython",
    "version": 3
   },
   "file_extension": ".py",
   "mimetype": "text/x-python",
   "name": "python",
   "nbconvert_exporter": "python",
   "pygments_lexer": "ipython3",
   "version": "3.7.7"
  }
 },
 "nbformat": 4,
 "nbformat_minor": 4
}
